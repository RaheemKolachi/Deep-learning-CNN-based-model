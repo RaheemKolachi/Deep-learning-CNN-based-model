{
  "cells": [
    {
      "cell_type": "code",
      "execution_count": null,
      "metadata": {
        "id": "LKB6uOHimobq"
      },
      "outputs": [],
      "source": [
        "import keras\n",
        "import tensorflow as tf\n",
        "from keras.preprocessing.image import ImageDataGenerator\n",
        "from tensorflow.keras.optimizers import Adam\n",
        "from keras.callbacks import ModelCheckpoint\n",
        "import numpy as np\n",
        "import matplotlib.pyplot as plt"
      ]
    },
    {
      "cell_type": "code",
      "execution_count": null,
      "metadata": {
        "id": "2K7wZFTWn2Ai"
      },
      "outputs": [],
      "source": [
        "train_data=\"/content/drive/MyDrive/Colab Notebooks/DataSets/training\"\n",
        "vali_data=\"/content/drive/MyDrive/Colab Notebooks/DataSets/validation\"\n"
      ]
    },
    {
      "cell_type": "code",
      "execution_count": null,
      "metadata": {
        "id": "TtqS5Z-jpGqD",
        "colab": {
          "base_uri": "https://localhost:8080/"
        },
        "outputId": "1d07f282-3c06-4b11-fcc7-8ca1facbf5af"
      },
      "outputs": [
        {
          "output_type": "stream",
          "name": "stdout",
          "text": [
            "Found 730 images belonging to 2 classes.\n"
          ]
        }
      ],
      "source": [
        "training_datagen=ImageDataGenerator(rescale=1./255,\n",
        "                                 rotation_range=40,\n",
        "                                 width_shift_range=0.2,\n",
        "                                 height_shift_range=0.2,\n",
        "                                 shear_range=0.2,\n",
        "                                 zoom_range=0.2,\n",
        "                                 horizontal_flip=True,\n",
        "                                 fill_mode='nearest')\n",
        "\n",
        "training_data=training_datagen.flow_from_directory(train_data,\n",
        "                                                   target_size=(150,150),\n",
        "                                                   batch_size=32,\n",
        "                                                   class_mode='binary')"
      ]
    },
    {
      "cell_type": "code",
      "execution_count": null,
      "metadata": {
        "id": "DxzXjDl9qm8S",
        "colab": {
          "base_uri": "https://localhost:8080/"
        },
        "outputId": "d48afc26-aa1f-4bcd-958c-175d6e2949cd"
      },
      "outputs": [
        {
          "output_type": "execute_result",
          "data": {
            "text/plain": [
              "{'bacterial_blight': 0, 'curl_virus': 1}"
            ]
          },
          "metadata": {},
          "execution_count": 12
        }
      ],
      "source": [
        "training_data.class_indices"
      ]
    },
    {
      "cell_type": "code",
      "source": [
        "from google.colab import drive\n",
        "drive.mount('/content/drive')"
      ],
      "metadata": {
        "id": "v6giKxJPMYLC"
      },
      "execution_count": null,
      "outputs": []
    },
    {
      "cell_type": "code",
      "source": [
        ""
      ],
      "metadata": {
        "id": "bDiWt0stgORS"
      },
      "execution_count": null,
      "outputs": []
    },
    {
      "cell_type": "code",
      "execution_count": null,
      "metadata": {
        "id": "MHPmpg39queO",
        "colab": {
          "base_uri": "https://localhost:8080/"
        },
        "outputId": "83a1c0ff-7af8-4fcc-b5a9-d8242119772d"
      },
      "outputs": [
        {
          "output_type": "stream",
          "name": "stdout",
          "text": [
            "Found 135 images belonging to 2 classes.\n"
          ]
        }
      ],
      "source": [
        "valid_datagen=ImageDataGenerator(rescale=1./255)\n",
        "valid_data=valid_datagen.flow_from_directory(vali_data,\n",
        "                                             target_size=(150,150),\n",
        "                                             batch_size=32,\n",
        "                                             class_mode='binary')"
      ]
    },
    {
      "cell_type": "code",
      "execution_count": null,
      "metadata": {
        "id": "DMQ0S5Oxr3Vi"
      },
      "outputs": [],
      "source": [
        "model_path='/content/drive/MyDrive/Colab Notebooks/ model11.h5'\n",
        "checkpoint=ModelCheckpoint(model_path,monitor='val_accuracy',verbose=1,save_best_only=True,mode='max')\n",
        "callbacks_list=[checkpoint]\n"
      ]
    },
    {
      "cell_type": "code",
      "execution_count": null,
      "metadata": {
        "id": "LZ4oZroBtA2e"
      },
      "outputs": [],
      "source": [
        "modelfinal=keras.models.Sequential([\n",
        "                              keras.layers.Conv2D(filters=32,kernel_size=3,input_shape=[150,150,3]),\n",
        "                              keras.layers.MaxPooling2D(pool_size=(2,2)),\n",
        "                              keras.layers.Conv2D(filters=64,kernel_size=3),\n",
        "                              keras.layers.MaxPooling2D(pool_size=(2,2)),\n",
        "                              keras.layers.Conv2D(filters=128,kernel_size=3),\n",
        "                              keras.layers.MaxPooling2D(pool_size=(2,2)),\n",
        "                              keras.layers.Conv2D(filters=256,kernel_size=3),\n",
        "                              keras.layers.MaxPooling2D(pool_size=(2,2)),\n",
        "\n",
        "                              keras.layers.Dropout(0.5),\n",
        "                              keras.layers.Flatten(),\n",
        "                              keras.layers.Dense(units=128,activation='relu'),\n",
        "                              keras.layers.Dropout(0.1),\n",
        "                              keras.layers.Dense(units=256,activation='relu'),\n",
        "                              keras.layers.Dropout(0.25),\n",
        "                              keras.layers.Dense(units=32,activation='softmax'),\n",
        "])"
      ]
    },
    {
      "cell_type": "code",
      "execution_count": null,
      "metadata": {
        "id": "SSlQ672rxeS6",
        "colab": {
          "base_uri": "https://localhost:8080/"
        },
        "outputId": "f6f2ccec-e6b8-4791-bf10-fb1be130e435"
      },
      "outputs": [
        {
          "output_type": "stream",
          "name": "stderr",
          "text": [
            "/usr/local/lib/python3.7/dist-packages/keras/optimizer_v2/adam.py:105: UserWarning: The `lr` argument is deprecated, use `learning_rate` instead.\n",
            "  super(Adam, self).__init__(name, **kwargs)\n"
          ]
        }
      ],
      "source": [
        "modelfinal.compile(optimizer=Adam(lr=0.00001),loss='sparse_categorical_crossentropy',metrics=['accuracy'])"
      ]
    },
    {
      "cell_type": "code",
      "execution_count": null,
      "metadata": {
        "id": "Ss35dLpTyZx2",
        "colab": {
          "base_uri": "https://localhost:8080/"
        },
        "outputId": "f8c5efd0-7fb1-4f3d-eec8-98c7fce2524e"
      },
      "outputs": [
        {
          "output_type": "stream",
          "name": "stdout",
          "text": [
            "Model: \"sequential_1\"\n",
            "_________________________________________________________________\n",
            " Layer (type)                Output Shape              Param #   \n",
            "=================================================================\n",
            " conv2d_4 (Conv2D)           (None, 148, 148, 32)      896       \n",
            "                                                                 \n",
            " max_pooling2d_4 (MaxPooling  (None, 74, 74, 32)       0         \n",
            " 2D)                                                             \n",
            "                                                                 \n",
            " conv2d_5 (Conv2D)           (None, 72, 72, 64)        18496     \n",
            "                                                                 \n",
            " max_pooling2d_5 (MaxPooling  (None, 36, 36, 64)       0         \n",
            " 2D)                                                             \n",
            "                                                                 \n",
            " conv2d_6 (Conv2D)           (None, 34, 34, 128)       73856     \n",
            "                                                                 \n",
            " max_pooling2d_6 (MaxPooling  (None, 17, 17, 128)      0         \n",
            " 2D)                                                             \n",
            "                                                                 \n",
            " conv2d_7 (Conv2D)           (None, 15, 15, 256)       295168    \n",
            "                                                                 \n",
            " max_pooling2d_7 (MaxPooling  (None, 7, 7, 256)        0         \n",
            " 2D)                                                             \n",
            "                                                                 \n",
            " dropout_3 (Dropout)         (None, 7, 7, 256)         0         \n",
            "                                                                 \n",
            " flatten_1 (Flatten)         (None, 12544)             0         \n",
            "                                                                 \n",
            " dense_3 (Dense)             (None, 128)               1605760   \n",
            "                                                                 \n",
            " dropout_4 (Dropout)         (None, 128)               0         \n",
            "                                                                 \n",
            " dense_4 (Dense)             (None, 256)               33024     \n",
            "                                                                 \n",
            " dropout_5 (Dropout)         (None, 256)               0         \n",
            "                                                                 \n",
            " dense_5 (Dense)             (None, 32)                8224      \n",
            "                                                                 \n",
            "=================================================================\n",
            "Total params: 2,035,424\n",
            "Trainable params: 2,035,424\n",
            "Non-trainable params: 0\n",
            "_________________________________________________________________\n"
          ]
        }
      ],
      "source": [
        "modelfinal.summary()"
      ]
    },
    {
      "cell_type": "code",
      "execution_count": null,
      "metadata": {
        "colab": {
          "base_uri": "https://localhost:8080/"
        },
        "id": "9ncTy_XIyi2s",
        "outputId": "944d78ca-a554-4a00-a4e8-a180eaf72fb4"
      },
      "outputs": [
        {
          "output_type": "stream",
          "name": "stdout",
          "text": [
            "Epoch 1/500\n",
            "23/23 [==============================] - ETA: 0s - loss: 3.4672 - accuracy: 0.0164 \n",
            "Epoch 1: val_accuracy improved from -inf to 0.00000, saving model to /content/drive/MyDrive/Colab Notebooks/ model11.h5\n",
            "23/23 [==============================] - 446s 19s/step - loss: 3.4672 - accuracy: 0.0164 - val_loss: 3.3481 - val_accuracy: 0.0000e+00\n",
            "Epoch 2/500\n",
            "23/23 [==============================] - ETA: 0s - loss: 3.2371 - accuracy: 0.1521\n",
            "Epoch 2: val_accuracy improved from 0.00000 to 0.48148, saving model to /content/drive/MyDrive/Colab Notebooks/ model11.h5\n",
            "23/23 [==============================] - 10s 449ms/step - loss: 3.2371 - accuracy: 0.1521 - val_loss: 3.0154 - val_accuracy: 0.4815\n",
            "Epoch 3/500\n",
            "23/23 [==============================] - ETA: 0s - loss: 2.7459 - accuracy: 0.3781\n",
            "Epoch 3: val_accuracy did not improve from 0.48148\n",
            "23/23 [==============================] - 10s 437ms/step - loss: 2.7459 - accuracy: 0.3781 - val_loss: 2.2287 - val_accuracy: 0.4741\n",
            "Epoch 4/500\n",
            "23/23 [==============================] - ETA: 0s - loss: 1.8314 - accuracy: 0.4932\n",
            "Epoch 4: val_accuracy did not improve from 0.48148\n",
            "23/23 [==============================] - 10s 432ms/step - loss: 1.8314 - accuracy: 0.4932 - val_loss: 1.1513 - val_accuracy: 0.4741\n",
            "Epoch 5/500\n",
            "23/23 [==============================] - ETA: 0s - loss: 1.1465 - accuracy: 0.5096\n",
            "Epoch 5: val_accuracy improved from 0.48148 to 0.54815, saving model to /content/drive/MyDrive/Colab Notebooks/ model11.h5\n",
            "23/23 [==============================] - 11s 464ms/step - loss: 1.1465 - accuracy: 0.5096 - val_loss: 0.7887 - val_accuracy: 0.5481\n",
            "Epoch 6/500\n",
            "23/23 [==============================] - ETA: 0s - loss: 1.0081 - accuracy: 0.5260"
          ]
        }
      ],
      "source": [
        "training=modelfinal.fit(training_data,\n",
        "                   epochs=500,\n",
        "                   verbose=1,\n",
        "                   validation_data=valid_data,\n",
        "                   callbacks=callbacks_list\n",
        "                   )"
      ]
    },
    {
      "cell_type": "code",
      "source": [
        ""
      ],
      "metadata": {
        "id": "kr2ZiNXiWNFb",
        "colab": {
          "base_uri": "https://localhost:8080/"
        },
        "outputId": "c2e08c16-f19d-4d3a-bdb2-a63d7cb9b45d"
      },
      "execution_count": null,
      "outputs": [
        {
          "output_type": "stream",
          "name": "stdout",
          "text": [
            "Drive already mounted at /content/drive; to attempt to forcibly remount, call drive.mount(\"/content/drive\", force_remount=True).\n"
          ]
        }
      ]
    },
    {
      "cell_type": "code",
      "execution_count": null,
      "metadata": {
        "id": "DIEz0EhdjPSq",
        "colab": {
          "base_uri": "https://localhost:8080/"
        },
        "outputId": "5dcf1ca1-9b57-40bd-a0f3-3c274bb6bc0f"
      },
      "outputs": [
        {
          "output_type": "stream",
          "name": "stdout",
          "text": [
            "5/5 [==============================] - 1s 245ms/step - loss: 0.0914 - accuracy: 0.9704\n"
          ]
        },
        {
          "output_type": "execute_result",
          "data": {
            "text/plain": [
              "[0.09142100811004639, 0.970370352268219]"
            ]
          },
          "metadata": {},
          "execution_count": 12
        }
      ],
      "source": [
        "modelfinal.evaluate(valid_data)"
      ]
    },
    {
      "cell_type": "code",
      "execution_count": null,
      "metadata": {
        "id": "YtPfIkpWtbXz"
      },
      "outputs": [],
      "source": [
        "modelfinal.save('/content/drive/MyDrive/Colab Notebooks/ almostready4.h5')"
      ]
    },
    {
      "cell_type": "code",
      "execution_count": null,
      "metadata": {
        "id": "Qj269wzxkzHU",
        "colab": {
          "base_uri": "https://localhost:8080/"
        },
        "outputId": "49e1d506-7ae9-4c23-a982-d1df32dc32d3"
      },
      "outputs": [
        {
          "output_type": "execute_result",
          "data": {
            "text/plain": [
              "array([[7.2499644e-03, 9.9273479e-01, 2.1179953e-06, ..., 3.8151140e-07,\n",
              "        4.5737031e-07, 1.2474776e-06],\n",
              "       [8.6606706e-06, 9.9999130e-01, 5.4758546e-12, ..., 2.6105498e-12,\n",
              "        1.4045117e-12, 8.1847020e-12],\n",
              "       [1.9764651e-02, 9.8023170e-01, 2.1927372e-07, ..., 1.0618259e-07,\n",
              "        1.3048967e-07, 3.1526730e-07],\n",
              "       ...,\n",
              "       [1.6435218e-03, 9.9835110e-01, 3.8462738e-07, ..., 6.7162297e-08,\n",
              "        2.2770084e-07, 7.6316979e-07],\n",
              "       [9.8474461e-01, 1.5252823e-02, 1.5709787e-07, ..., 5.5842268e-08,\n",
              "        1.3551934e-07, 1.5007349e-07],\n",
              "       [9.8391724e-01, 1.6075378e-02, 3.2334751e-07, ..., 6.9235170e-08,\n",
              "        5.8778880e-07, 4.8365314e-07]], dtype=float32)"
            ]
          },
          "metadata": {},
          "execution_count": 14
        }
      ],
      "source": [
        "modelfinal.predict(valid_data)"
      ]
    }
  ],
  "metadata": {
    "colab": {
      "name": "working on it.ipynb",
      "provenance": [],
      "collapsed_sections": []
    },
    "kernelspec": {
      "display_name": "Python 3",
      "name": "python3"
    },
    "language_info": {
      "name": "python"
    },
    "accelerator": "GPU"
  },
  "nbformat": 4,
  "nbformat_minor": 0
}